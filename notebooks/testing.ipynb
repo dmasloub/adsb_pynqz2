{
 "cells": [
  {
   "cell_type": "code",
   "execution_count": 1,
   "metadata": {},
   "outputs": [],
   "source": [
    "import os\n",
    "import sys\n",
    "sys.path.append(os.path.abspath('..'))\n",
    "import config\n",
    "import pandas as pd\n",
    "import numpy as np\n",
    "import tqdm\n",
    "\n",
    "from utils.constants import (\n",
    "    DATA_TRAIN_DIR, \n",
    "    DATA_VALIDATION_DIR, \n",
    "    DATA_TEST_NOISE_DIR, \n",
    "    DATA_TEST_LANDING_DIR, \n",
    "    DATA_TEST_DEPARTING_DIR, \n",
    "    DATA_TEST_MANOEUVER_DIR, \n",
    "    DIFF_DATA, \n",
    "    K_LAG, \n",
    "    K_ORDER, \n",
    "    DIFF_FEATURES, \n",
    "    WINDOW_SIZE_STANDARD_AUTOENCODER, \n",
    "    FEATURES\n",
    ")\n",
    "from utils.constants import DATA_TRAIN_DIR\n",
    "\n",
    "from utils.preprocessing import filter_outliers, diff_data, get_windows_data"
   ]
  },
  {
   "cell_type": "code",
   "execution_count": 2,
   "metadata": {},
   "outputs": [],
   "source": [
    "data_dict = {\n",
    "    \"train\": [],\n",
    "    \"validation\": [],\n",
    "    \"test_noise\": [],\n",
    "    \"test_landing\": [],\n",
    "    \"test_departing\": [],\n",
    "    \"test_manoeuver\": [],\n",
    "}"
   ]
  },
  {
   "cell_type": "code",
   "execution_count": 8,
   "metadata": {},
   "outputs": [],
   "source": [
    "paths = {\n",
    "    \"train\": DATA_TRAIN_DIR, \n",
    "    \"validation\": DATA_VALIDATION_DIR, \n",
    "    \"test_noise\": DATA_TEST_NOISE_DIR, \n",
    "    \"test_landing\": DATA_TEST_LANDING_DIR, \n",
    "    \"test_departing\": DATA_TEST_DEPARTING_DIR,\n",
    "    \"test_manoeuver\": DATA_TEST_MANOEUVER_DIR\n",
    "}"
   ]
  },
  {
   "cell_type": "code",
   "execution_count": 9,
   "metadata": {},
   "outputs": [],
   "source": [
    "for key, path in paths.items():\n",
    "    files = os.listdir(path)\n",
    "    \n",
    "    for file in files:\n",
    "        file_path = os.path.join(path, file)\n",
    "        \n",
    "        # Check if the path is a file\n",
    "        if os.path.isfile(file_path):\n",
    "            df = pd.read_csv(file_path)\n",
    "            \n",
    "            if key == \"train\":\n",
    "                df = filter_outliers(df, cols=[\"longitude\", \"latitude\", \"altitude\", \"groundspeed\", \"x\", \"y\"], std=5)\n",
    "            elif key == \"validation\":\n",
    "                df = filter_outliers(df, cols=[\"longitude\", \"latitude\", \"altitude\", \"groundspeed\", \"x\", \"y\"], std=8)\n",
    "\n",
    "            if DIFF_DATA:\n",
    "                df = diff_data(df, cols=DIFF_FEATURES, lag=K_LAG, order=K_ORDER)\n",
    "            \n",
    "            data_dict[key].append(df)"
   ]
  },
  {
   "cell_type": "code",
   "execution_count": 10,
   "metadata": {},
   "outputs": [
    {
     "data": {
      "text/plain": [
       "['test_noise', 'test_landing', 'test_departing', 'test_manoeuver']"
      ]
     },
     "execution_count": 10,
     "metadata": {},
     "output_type": "execute_result"
    }
   ],
   "source": [
    "keys = [x for x in data_dict.keys() if x.startswith(\"test\")]\n",
    "keys"
   ]
  },
  {
   "cell_type": "code",
   "execution_count": 15,
   "metadata": {},
   "outputs": [
    {
     "ename": "TypeError",
     "evalue": "'module' object is not callable",
     "output_type": "error",
     "traceback": [
      "\u001b[0;31m---------------------------------------------------------------------------\u001b[0m",
      "\u001b[0;31mTypeError\u001b[0m                                 Traceback (most recent call last)",
      "Cell \u001b[0;32mIn[15], line 6\u001b[0m\n\u001b[1;32m      3\u001b[0m windowed_test_labels_list \u001b[38;5;241m=\u001b[39m []\n\u001b[1;32m      5\u001b[0m \u001b[38;5;66;03m# Iterate over each test dataset key\u001b[39;00m\n\u001b[0;32m----> 6\u001b[0m \u001b[38;5;28;01mfor\u001b[39;00m key \u001b[38;5;129;01min\u001b[39;00m \u001b[43mtqdm\u001b[49m\u001b[43m(\u001b[49m\u001b[43mkeys\u001b[49m\u001b[43m,\u001b[49m\u001b[43m \u001b[49m\u001b[43mdesc\u001b[49m\u001b[38;5;241;43m=\u001b[39;49m\u001b[38;5;124;43m\"\u001b[39;49m\u001b[38;5;124;43mProcessing test datasets\u001b[39;49m\u001b[38;5;124;43m\"\u001b[39;49m\u001b[43m)\u001b[49m:\n\u001b[1;32m      7\u001b[0m     temp_data_list \u001b[38;5;241m=\u001b[39m []\n\u001b[1;32m      8\u001b[0m     temp_labels_list \u001b[38;5;241m=\u001b[39m []\n",
      "\u001b[0;31mTypeError\u001b[0m: 'module' object is not callable"
     ]
    }
   ],
   "source": [
    "# Initialize lists to store windowed data and labels for test datasets\n",
    "windowed_test_data_list = []\n",
    "windowed_test_labels_list = []\n",
    "\n",
    "# Iterate over each test dataset key\n",
    "for key in tqdm(keys, desc=\"Processing test datasets\"):\n",
    "    temp_data_list = []\n",
    "    temp_labels_list = []\n",
    "    \n",
    "    for df in tqdm(data_dict[key], desc=f\"Processing {key}\"):\n",
    "        X, y = get_windows_data(df[FEATURES], df[\"anomaly\"], window_size=WINDOW_SIZE_STANDARD_AUTOENCODER, tsfresh=True)\n",
    "        temp_data_list.append(X)\n",
    "        temp_labels_list.append(y)\n",
    "    \n",
    "    windowed_test_data_list.append(temp_data_list)\n",
    "    windowed_test_labels_list.append(temp_labels_list)"
   ]
  },
  {
   "cell_type": "code",
   "execution_count": null,
   "metadata": {},
   "outputs": [],
   "source": []
  }
 ],
 "metadata": {
  "kernelspec": {
   "display_name": "base",
   "language": "python",
   "name": "python3"
  },
  "language_info": {
   "codemirror_mode": {
    "name": "ipython",
    "version": 3
   },
   "file_extension": ".py",
   "mimetype": "text/x-python",
   "name": "python",
   "nbconvert_exporter": "python",
   "pygments_lexer": "ipython3",
   "version": "3.10.11"
  }
 },
 "nbformat": 4,
 "nbformat_minor": 2
}
