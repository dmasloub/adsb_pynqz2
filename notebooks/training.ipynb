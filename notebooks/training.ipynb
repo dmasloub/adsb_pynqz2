{
 "cells": [
  {
   "cell_type": "markdown",
   "metadata": {},
   "source": [
    "### Imports & Misc."
   ]
  },
  {
   "cell_type": "code",
   "execution_count": 9,
   "metadata": {},
   "outputs": [],
   "source": [
    "import os\n",
    "import sys\n",
    "sys.path.append(os.path.abspath('..'))\n",
    "import config\n",
    "import pandas as pd\n",
    "\n",
    "from utils.constants import (\n",
    "    MODEL_STANDARD_DIR, \n",
    "    DATA_DIR, \n",
    "    DATA_TEST_DEPARTING_DIR, \n",
    "    DATA_TEST_LANDING_DIR, \n",
    "    DATA_TEST_MANOEUVER_DIR, \n",
    "    DATA_TEST_NOISE_DIR, \n",
    "    DATA_TRAIN_DIR, \n",
    "    STATE_VECTOR_FEATURES\n",
    ")\n",
    "from utils.preprocessing import filter_outliers"
   ]
  },
  {
   "cell_type": "code",
   "execution_count": 5,
   "metadata": {},
   "outputs": [
    {
     "name": "stdout",
     "output_type": "stream",
     "text": [
      "/home/jovyan/adsb_pynqz2\n"
     ]
    }
   ],
   "source": [
    "print(os.getcwd())"
   ]
  },
  {
   "cell_type": "code",
   "execution_count": 6,
   "metadata": {},
   "outputs": [],
   "source": [
    "if not os.path.exists(MODEL_STANDARD_DIR):\n",
    "    os.makedirs(MODEL_STANDARD_DIR)\n",
    "\n",
    "if not os.path.exists(DATA_DIR):\n",
    "    os.makedirs(DATA_DIR)"
   ]
  },
  {
   "cell_type": "code",
   "execution_count": 7,
   "metadata": {},
   "outputs": [
    {
     "name": "stdout",
     "output_type": "stream",
     "text": [
      "Archive:  data.zip\n",
      "   creating: data/test/\n",
      "   creating: data/test/manoeuver/\n",
      "  inflating: data/test/manoeuver/CFG114.csv  \n",
      "  inflating: data/test/manoeuver/VIR63.csv  \n",
      "  inflating: data/test/manoeuver/BAW60T.csv  \n",
      "  inflating: data/test/manoeuver/DLH444.csv  \n",
      "  inflating: data/test/manoeuver/BAW175.csv  \n",
      "  inflating: data/test/manoeuver/BAW9L.csv  \n",
      "  inflating: data/test/manoeuver/BAW9154.csv  \n",
      "   creating: data/test/departing/\n",
      "  inflating: data/test/departing/CFG114.csv  \n",
      "  inflating: data/test/departing/VIR63.csv  \n",
      "  inflating: data/test/departing/BAW60T.csv  \n",
      "  inflating: data/test/departing/DLH444.csv  \n",
      "  inflating: data/test/departing/BAW175.csv  \n",
      "  inflating: data/test/departing/BAW9L.csv  \n",
      "  inflating: data/test/departing/BAW9154.csv  \n",
      "   creating: data/test/noise/\n",
      "  inflating: data/test/noise/CFG114.csv  \n",
      "  inflating: data/test/noise/VIR63.csv  \n",
      "  inflating: data/test/noise/BAW60T.csv  \n",
      "  inflating: data/test/noise/DLH444.csv  \n",
      "  inflating: data/test/noise/BAW175.csv  \n",
      "  inflating: data/test/noise/BAW9L.csv  \n",
      "  inflating: data/test/noise/BAW9154.csv  \n",
      "   creating: data/test/landing/\n",
      "  inflating: data/test/landing/CFG114.csv  \n",
      "  inflating: data/test/landing/VIR63.csv  \n",
      "  inflating: data/test/landing/BAW60T.csv  \n",
      "  inflating: data/test/landing/DLH444.csv  \n",
      "  inflating: data/test/landing/BAW175.csv  \n",
      "  inflating: data/test/landing/BAW9L.csv  \n",
      "  inflating: data/test/landing/BAW9154.csv  \n",
      "  inflating: data/train.csv          \n",
      "  inflating: data/anomaly_departing.csv  \n",
      "  inflating: data/anomaly_manoeuver.csv  \n",
      "  inflating: data/test.csv           \n",
      "   creating: data/train/\n",
      "  inflating: data/train/TUI7M.csv    \n",
      "  inflating: data/train/IBE6620.csv  \n",
      "  inflating: data/train/IBS3940.csv  \n",
      "  inflating: data/train/VLG2AB.csv   \n",
      "  inflating: data/train/AEA052.csv   \n",
      "  inflating: data/train/BAW88MC.csv  \n",
      "  inflating: data/train/TVF68LP.csv  \n",
      "  inflating: data/train/IBS3827.csv  \n",
      "  inflating: data/train/AEA9161.csv  \n",
      "  inflating: data/train/MAC106.csv   \n",
      "  inflating: data/train/TUI9GJ.csv   \n",
      "  inflating: data/train/TUI352.csv   \n",
      "  inflating: data/train/VLG7JZ.csv   \n",
      "  inflating: data/train/AFR416.csv   \n",
      "  inflating: data/train/TUI32M.csv   \n",
      "  inflating: data/train/IBS3856.csv  \n",
      "  inflating: data/train/IBE6342.csv  \n",
      "  inflating: data/train/AFR402.csv   \n",
      "  inflating: data/train/AFR52GL.csv  \n",
      "  inflating: data/train/ANE78ZL.csv  \n",
      "  inflating: data/train/IBS3961.csv  \n",
      "  inflating: data/train/IBE6650.csv  \n",
      "  inflating: data/train/TUI2346.csv  \n",
      "  inflating: data/train/IBE6124.csv  \n",
      "  inflating: data/train/AVA014.csv   \n",
      "  inflating: data/train/TUI1CG.csv   \n",
      "  inflating: data/validation.csv     \n",
      "   creating: data/validation/\n",
      "  inflating: data/validation/NAX16L.csv  \n",
      "  inflating: data/validation/EZY73ZD.csv  \n",
      "  inflating: data/validation/EZY95DV.csv  \n",
      "  inflating: data/validation/NAX7AP.csv  \n",
      "  inflating: data/validation/NAX77N.csv  \n",
      "  inflating: data/validation/TRA22V.csv  \n",
      "  inflating: data/validation/EJU31DQ.csv  \n",
      "  inflating: data/validation/TOM3WK.csv  \n",
      "  inflating: data/validation/KLM791.csv  \n",
      "  inflating: data/anomaly_landing.csv  \n",
      "yes: standard output: Broken pipe\n"
     ]
    }
   ],
   "source": [
    "!yes | unzip data.zip"
   ]
  },
  {
   "cell_type": "code",
   "execution_count": 10,
   "metadata": {},
   "outputs": [],
   "source": [
    "df_sample = pd.read_csv(os.path.join(DATA_TRAIN_DIR, \"BAW88MC.csv\"))\n",
    "df_sample_man = pd.read_csv(os.path.join(DATA_TEST_MANOEUVER_DIR, \"BAW175.csv\"))\n",
    "df_sample_dep = pd.read_csv(os.path.join(DATA_TEST_DEPARTING_DIR, \"BAW175.csv\"))\n",
    "df_sample_lan = pd.read_csv(os.path.join(DATA_TEST_LANDING_DIR, \"BAW175.csv\"))\n",
    "df_sample_noi = pd.read_csv(os.path.join(DATA_TEST_NOISE_DIR, \"BAW175.csv\"))"
   ]
  },
  {
   "cell_type": "code",
   "execution_count": null,
   "metadata": {},
   "outputs": [],
   "source": [
    "\n",
    "\n",
    "\n",
    "diff_temp_df = filter_outliers(df_sample, cols=STATE_VECTOR_FEATURES)"
   ]
  }
 ],
 "metadata": {
  "kernelspec": {
   "display_name": "Python 3",
   "language": "python",
   "name": "python3"
  },
  "language_info": {
   "codemirror_mode": {
    "name": "ipython",
    "version": 3
   },
   "file_extension": ".py",
   "mimetype": "text/x-python",
   "name": "python",
   "nbconvert_exporter": "python",
   "pygments_lexer": "ipython3",
   "version": "3.10.11"
  }
 },
 "nbformat": 4,
 "nbformat_minor": 2
}
