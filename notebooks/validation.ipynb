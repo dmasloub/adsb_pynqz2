{
 "cells": [
  {
   "cell_type": "code",
   "execution_count": 32,
   "metadata": {},
   "outputs": [],
   "source": [
    "import os\n",
    "import sys\n",
    "sys.path.append(os.path.abspath('..'))\n",
    "import config\n",
    "import pandas as pd\n",
    "import numpy as np\n",
    "import joblib\n",
    "\n",
    "\n",
    "from tsfresh import extract_features\n",
    "from tsfresh.utilities.dataframe_functions import impute\n",
    "from tsfresh.feature_extraction import MinimalFCParameters\n",
    "\n",
    "from utils.constants import (\n",
    "    MODEL_STANDARD_DIR, \n",
    "    WINDOW_SIZE_STANDARD_AUTOENCODER, \n",
    "    FEATURES, \n",
    "    DATA_DIR, \n",
    "    DATA_TRAIN_DIR, \n",
    "    DATA_TEST_DEPARTING_DIR, \n",
    "    DATA_TEST_LANDING_DIR,\n",
    "    DATA_TEST_MANOEUVER_DIR, \n",
    "    DATA_TEST_NOISE_DIR, \n",
    "    DATA_VALIDATION_DIR, \n",
    "    DIFF_DATA, \n",
    "    DIFF_FEATURES, \n",
    "    K_LAG, \n",
    "    K_ORDER\n",
    ")\n",
    "\n",
    "from utils.preprocessing import (\n",
    "    get_windows_data, \n",
    "    filter_outliers, \n",
    "    diff_data\n",
    ")\n",
    "\n",
    "from utils.evaluation import test_normal_dist\n",
    "\n",
    "from tensorflow.keras.models import load_model\n",
    "from tqdm import tqdm\n",
    "import matplotlib.pyplot as plt\n",
    "\n",
    "from utils.autoencoder import autoencoder_model_feature_pipeline"
   ]
  },
  {
   "cell_type": "code",
   "execution_count": 9,
   "metadata": {},
   "outputs": [
    {
     "name": "stdout",
     "output_type": "stream",
     "text": [
      "/home/jovyan/adsb_pynqz2\n"
     ]
    }
   ],
   "source": [
    "print(os.getcwd())"
   ]
  },
  {
   "cell_type": "code",
   "execution_count": 11,
   "metadata": {},
   "outputs": [],
   "source": [
    "if not os.path.exists(MODEL_STANDARD_DIR):\n",
    "    os.makedirs(MODEL_STANDARD_DIR)\n",
    "\n",
    "if not os.path.exists(DATA_DIR):\n",
    "    os.makedirs(DATA_DIR)"
   ]
  },
  {
   "cell_type": "code",
   "execution_count": 12,
   "metadata": {},
   "outputs": [
    {
     "name": "stdout",
     "output_type": "stream",
     "text": [
      "Archive:  data.zip\n",
      "replace data/test/manoeuver/CFG114.csv? [y]es, [n]o, [A]ll, [N]one, [r]ename:   inflating: data/test/manoeuver/CFG114.csv  \n",
      "replace data/test/manoeuver/VIR63.csv? [y]es, [n]o, [A]ll, [N]one, [r]ename:   inflating: data/test/manoeuver/VIR63.csv  \n",
      "replace data/test/manoeuver/BAW60T.csv? [y]es, [n]o, [A]ll, [N]one, [r]ename:   inflating: data/test/manoeuver/BAW60T.csv  \n",
      "replace data/test/manoeuver/DLH444.csv? [y]es, [n]o, [A]ll, [N]one, [r]ename:   inflating: data/test/manoeuver/DLH444.csv  \n",
      "replace data/test/manoeuver/BAW175.csv? [y]es, [n]o, [A]ll, [N]one, [r]ename:   inflating: data/test/manoeuver/BAW175.csv  \n",
      "replace data/test/manoeuver/BAW9L.csv? [y]es, [n]o, [A]ll, [N]one, [r]ename:   inflating: data/test/manoeuver/BAW9L.csv  \n",
      "replace data/test/manoeuver/BAW9154.csv? [y]es, [n]o, [A]ll, [N]one, [r]ename:   inflating: data/test/manoeuver/BAW9154.csv  \n",
      "replace data/test/departing/CFG114.csv? [y]es, [n]o, [A]ll, [N]one, [r]ename:   inflating: data/test/departing/CFG114.csv  \n",
      "replace data/test/departing/VIR63.csv? [y]es, [n]o, [A]ll, [N]one, [r]ename:   inflating: data/test/departing/VIR63.csv  \n",
      "replace data/test/departing/BAW60T.csv? [y]es, [n]o, [A]ll, [N]one, [r]ename:   inflating: data/test/departing/BAW60T.csv  \n",
      "replace data/test/departing/DLH444.csv? [y]es, [n]o, [A]ll, [N]one, [r]ename:   inflating: data/test/departing/DLH444.csv  \n",
      "replace data/test/departing/BAW175.csv? [y]es, [n]o, [A]ll, [N]one, [r]ename:   inflating: data/test/departing/BAW175.csv  \n",
      "replace data/test/departing/BAW9L.csv? [y]es, [n]o, [A]ll, [N]one, [r]ename:   inflating: data/test/departing/BAW9L.csv  \n",
      "replace data/test/departing/BAW9154.csv? [y]es, [n]o, [A]ll, [N]one, [r]ename:   inflating: data/test/departing/BAW9154.csv  \n",
      "replace data/test/noise/CFG114.csv? [y]es, [n]o, [A]ll, [N]one, [r]ename:   inflating: data/test/noise/CFG114.csv  \n",
      "replace data/test/noise/VIR63.csv? [y]es, [n]o, [A]ll, [N]one, [r]ename:   inflating: data/test/noise/VIR63.csv  \n",
      "replace data/test/noise/BAW60T.csv? [y]es, [n]o, [A]ll, [N]one, [r]ename:   inflating: data/test/noise/BAW60T.csv  \n",
      "replace data/test/noise/DLH444.csv? [y]es, [n]o, [A]ll, [N]one, [r]ename:   inflating: data/test/noise/DLH444.csv  \n",
      "replace data/test/noise/BAW175.csv? [y]es, [n]o, [A]ll, [N]one, [r]ename:   inflating: data/test/noise/BAW175.csv  \n",
      "replace data/test/noise/BAW9L.csv? [y]es, [n]o, [A]ll, [N]one, [r]ename:   inflating: data/test/noise/BAW9L.csv  \n",
      "replace data/test/noise/BAW9154.csv? [y]es, [n]o, [A]ll, [N]one, [r]ename:   inflating: data/test/noise/BAW9154.csv  \n",
      "replace data/test/landing/CFG114.csv? [y]es, [n]o, [A]ll, [N]one, [r]ename:   inflating: data/test/landing/CFG114.csv  \n",
      "replace data/test/landing/VIR63.csv? [y]es, [n]o, [A]ll, [N]one, [r]ename:   inflating: data/test/landing/VIR63.csv  \n",
      "replace data/test/landing/BAW60T.csv? [y]es, [n]o, [A]ll, [N]one, [r]ename:   inflating: data/test/landing/BAW60T.csv  \n",
      "replace data/test/landing/DLH444.csv? [y]es, [n]o, [A]ll, [N]one, [r]ename:   inflating: data/test/landing/DLH444.csv  \n",
      "replace data/test/landing/BAW175.csv? [y]es, [n]o, [A]ll, [N]one, [r]ename:   inflating: data/test/landing/BAW175.csv  \n",
      "replace data/test/landing/BAW9L.csv? [y]es, [n]o, [A]ll, [N]one, [r]ename:   inflating: data/test/landing/BAW9L.csv  \n",
      "replace data/test/landing/BAW9154.csv? [y]es, [n]o, [A]ll, [N]one, [r]ename:   inflating: data/test/landing/BAW9154.csv  \n",
      "replace data/train.csv? [y]es, [n]o, [A]ll, [N]one, [r]ename:   inflating: data/train.csv          \n",
      "replace data/anomaly_departing.csv? [y]es, [n]o, [A]ll, [N]one, [r]ename:   inflating: data/anomaly_departing.csv  \n",
      "replace data/anomaly_manoeuver.csv? [y]es, [n]o, [A]ll, [N]one, [r]ename:   inflating: data/anomaly_manoeuver.csv  \n",
      "replace data/test.csv? [y]es, [n]o, [A]ll, [N]one, [r]ename:   inflating: data/test.csv           \n",
      "replace data/train/TUI7M.csv? [y]es, [n]o, [A]ll, [N]one, [r]ename:   inflating: data/train/TUI7M.csv    \n",
      "replace data/train/IBE6620.csv? [y]es, [n]o, [A]ll, [N]one, [r]ename:   inflating: data/train/IBE6620.csv  \n",
      "replace data/train/IBS3940.csv? [y]es, [n]o, [A]ll, [N]one, [r]ename:   inflating: data/train/IBS3940.csv  \n",
      "replace data/train/VLG2AB.csv? [y]es, [n]o, [A]ll, [N]one, [r]ename:   inflating: data/train/VLG2AB.csv   \n",
      "replace data/train/AEA052.csv? [y]es, [n]o, [A]ll, [N]one, [r]ename:   inflating: data/train/AEA052.csv   \n",
      "replace data/train/BAW88MC.csv? [y]es, [n]o, [A]ll, [N]one, [r]ename:   inflating: data/train/BAW88MC.csv  \n",
      "replace data/train/TVF68LP.csv? [y]es, [n]o, [A]ll, [N]one, [r]ename:   inflating: data/train/TVF68LP.csv  \n",
      "replace data/train/IBS3827.csv? [y]es, [n]o, [A]ll, [N]one, [r]ename:   inflating: data/train/IBS3827.csv  \n",
      "replace data/train/AEA9161.csv? [y]es, [n]o, [A]ll, [N]one, [r]ename:   inflating: data/train/AEA9161.csv  \n",
      "replace data/train/MAC106.csv? [y]es, [n]o, [A]ll, [N]one, [r]ename:   inflating: data/train/MAC106.csv   \n",
      "replace data/train/TUI9GJ.csv? [y]es, [n]o, [A]ll, [N]one, [r]ename:   inflating: data/train/TUI9GJ.csv   \n",
      "replace data/train/TUI352.csv? [y]es, [n]o, [A]ll, [N]one, [r]ename:   inflating: data/train/TUI352.csv   \n",
      "replace data/train/VLG7JZ.csv? [y]es, [n]o, [A]ll, [N]one, [r]ename:   inflating: data/train/VLG7JZ.csv   \n",
      "replace data/train/AFR416.csv? [y]es, [n]o, [A]ll, [N]one, [r]ename:   inflating: data/train/AFR416.csv   \n",
      "replace data/train/TUI32M.csv? [y]es, [n]o, [A]ll, [N]one, [r]ename:   inflating: data/train/TUI32M.csv   \n",
      "replace data/train/IBS3856.csv? [y]es, [n]o, [A]ll, [N]one, [r]ename:   inflating: data/train/IBS3856.csv  \n",
      "replace data/train/IBE6342.csv? [y]es, [n]o, [A]ll, [N]one, [r]ename:   inflating: data/train/IBE6342.csv  \n",
      "replace data/train/AFR402.csv? [y]es, [n]o, [A]ll, [N]one, [r]ename:   inflating: data/train/AFR402.csv   \n",
      "replace data/train/AFR52GL.csv? [y]es, [n]o, [A]ll, [N]one, [r]ename:   inflating: data/train/AFR52GL.csv  \n",
      "replace data/train/ANE78ZL.csv? [y]es, [n]o, [A]ll, [N]one, [r]ename:   inflating: data/train/ANE78ZL.csv  \n",
      "replace data/train/IBS3961.csv? [y]es, [n]o, [A]ll, [N]one, [r]ename:   inflating: data/train/IBS3961.csv  \n",
      "replace data/train/IBE6650.csv? [y]es, [n]o, [A]ll, [N]one, [r]ename:   inflating: data/train/IBE6650.csv  \n",
      "replace data/train/TUI2346.csv? [y]es, [n]o, [A]ll, [N]one, [r]ename:   inflating: data/train/TUI2346.csv  \n",
      "replace data/train/IBE6124.csv? [y]es, [n]o, [A]ll, [N]one, [r]ename:   inflating: data/train/IBE6124.csv  \n",
      "replace data/train/AVA014.csv? [y]es, [n]o, [A]ll, [N]one, [r]ename:   inflating: data/train/AVA014.csv   \n",
      "replace data/train/TUI1CG.csv? [y]es, [n]o, [A]ll, [N]one, [r]ename:   inflating: data/train/TUI1CG.csv   \n",
      "replace data/validation.csv? [y]es, [n]o, [A]ll, [N]one, [r]ename:   inflating: data/validation.csv     \n",
      "replace data/validation/NAX16L.csv? [y]es, [n]o, [A]ll, [N]one, [r]ename:   inflating: data/validation/NAX16L.csv  \n",
      "replace data/validation/EZY73ZD.csv? [y]es, [n]o, [A]ll, [N]one, [r]ename:   inflating: data/validation/EZY73ZD.csv  \n",
      "replace data/validation/EZY95DV.csv? [y]es, [n]o, [A]ll, [N]one, [r]ename:   inflating: data/validation/EZY95DV.csv  \n",
      "replace data/validation/NAX7AP.csv? [y]es, [n]o, [A]ll, [N]one, [r]ename:   inflating: data/validation/NAX7AP.csv  \n",
      "replace data/validation/NAX77N.csv? [y]es, [n]o, [A]ll, [N]one, [r]ename:   inflating: data/validation/NAX77N.csv  \n",
      "replace data/validation/TRA22V.csv? [y]es, [n]o, [A]ll, [N]one, [r]ename:   inflating: data/validation/TRA22V.csv  \n",
      "replace data/validation/EJU31DQ.csv? [y]es, [n]o, [A]ll, [N]one, [r]ename:   inflating: data/validation/EJU31DQ.csv  \n",
      "replace data/validation/TOM3WK.csv? [y]es, [n]o, [A]ll, [N]one, [r]ename:   inflating: data/validation/TOM3WK.csv  \n",
      "replace data/validation/KLM791.csv? [y]es, [n]o, [A]ll, [N]one, [r]ename:   inflating: data/validation/KLM791.csv  \n",
      "replace data/anomaly_landing.csv? [y]es, [n]o, [A]ll, [N]one, [r]ename:   inflating: data/anomaly_landing.csv  \n",
      "yes: standard output: Broken pipe\n"
     ]
    }
   ],
   "source": [
    "!yes | unzip data.zip"
   ]
  },
  {
   "cell_type": "code",
   "execution_count": 16,
   "metadata": {},
   "outputs": [],
   "source": [
    "data_dict = {\n",
    "    \"train\": [],\n",
    "    \"validation\": [],\n",
    "    \"test_noise\": [],\n",
    "    \"test_landing\": [],\n",
    "    \"test_departing\": [],\n",
    "    \"test_manoeuver\": [],\n",
    "}"
   ]
  },
  {
   "cell_type": "code",
   "execution_count": 17,
   "metadata": {},
   "outputs": [],
   "source": [
    "paths = {\n",
    "    \"train\": DATA_TRAIN_DIR,\n",
    "    \"validation\": DATA_VALIDATION_DIR,\n",
    "    \"test_noise\": DATA_TEST_NOISE_DIR,\n",
    "    \"test_landing\": DATA_TEST_LANDING_DIR,\n",
    "    \"test_departing\": DATA_TEST_DEPARTING_DIR,\n",
    "    \"test_manoeuver\": DATA_TEST_MANOEUVER_DIR\n",
    "}"
   ]
  },
  {
   "cell_type": "code",
   "execution_count": 18,
   "metadata": {},
   "outputs": [],
   "source": [
    "for key, path in paths.items():\n",
    "    files = os.listdir(path)\n",
    "    \n",
    "    for file in files:\n",
    "        file_path = os.path.join(path, file)\n",
    "        \n",
    "        # Check if the path is a file\n",
    "        if os.path.isfile(file_path):\n",
    "            df = pd.read_csv(file_path)\n",
    "            \n",
    "            if key == \"train\":\n",
    "                df = filter_outliers(df, cols=[\"longitude\", \"latitude\", \"altitude\", \"groundspeed\", \"x\", \"y\"], std=5)\n",
    "            elif key == \"validation\":\n",
    "                df = filter_outliers(df, cols=[\"longitude\", \"latitude\", \"altitude\", \"groundspeed\", \"x\", \"y\"], std=8)\n",
    "\n",
    "            if DIFF_DATA:\n",
    "                df = diff_data(df, cols=DIFF_FEATURES, lag=K_LAG, order=K_ORDER)\n",
    "            \n",
    "            data_dict[key].append(df)"
   ]
  },
  {
   "cell_type": "code",
   "execution_count": 3,
   "metadata": {},
   "outputs": [
    {
     "name": "stderr",
     "output_type": "stream",
     "text": [
      "2024-07-24 15:26:17.813613: I tensorflow/core/platform/cpu_feature_guard.cc:193] This TensorFlow binary is optimized with oneAPI Deep Neural Network Library (oneDNN) to use the following CPU instructions in performance-critical operations:  SSE4.1 SSE4.2 AVX AVX2 FMA\n",
      "To enable them in other operations, rebuild TensorFlow with the appropriate compiler flags.\n"
     ]
    },
    {
     "name": "stdout",
     "output_type": "stream",
     "text": [
      "WARNING:tensorflow:No training configuration found in save file, so the model was *not* compiled. Compile it manually.\n"
     ]
    }
   ],
   "source": [
    "model = load_model(MODEL_STANDARD_DIR)"
   ]
  },
  {
   "cell_type": "code",
   "execution_count": 19,
   "metadata": {},
   "outputs": [
    {
     "name": "stderr",
     "output_type": "stream",
     "text": [
      "Processing validation data: 100%|██████████| 9/9 [00:30<00:00,  3.43s/it]\n"
     ]
    }
   ],
   "source": [
    "# Initialize lists to store windowed data and labels for validation\n",
    "validation_windows_list = []\n",
    "validation_labels_list = []\n",
    "\n",
    "# Iterate over each DataFrame in the validation data\n",
    "for df in tqdm(data_dict[\"validation\"], desc=\"Processing validation data\"):\n",
    "    if df.empty:\n",
    "        continue  # Skip empty DataFrames\n",
    "    \n",
    "    try:\n",
    "        # Extract windowed data and labels\n",
    "        windowed_data, windowed_labels = get_windows_data(\n",
    "            df[FEATURES], \n",
    "            [0] * df.shape[0], \n",
    "            window_size=WINDOW_SIZE_STANDARD_AUTOENCODER, \n",
    "            tsfresh=True\n",
    "        )\n",
    "        \n",
    "        # Append extracted data and labels to lists\n",
    "        validation_windows_list.append(windowed_data)\n",
    "        validation_labels_list.append(windowed_labels)\n",
    "    \n",
    "    except Exception as e:\n",
    "        print(f\"Error processing DataFrame: {e}\")"
   ]
  },
  {
   "cell_type": "code",
   "execution_count": 21,
   "metadata": {},
   "outputs": [
    {
     "name": "stderr",
     "output_type": "stream",
     "text": [
      "Feature Extraction: 100%|██████████| 20/20 [00:05<00:00,  3.93it/s]s]\n",
      "Feature Extraction: 100%|██████████| 20/20 [00:05<00:00,  3.57it/s] 5.68s/it]\n",
      "Feature Extraction: 100%|██████████| 20/20 [00:04<00:00,  4.17it/s] 5.93s/it]\n",
      "Feature Extraction: 100%|██████████| 20/20 [00:09<00:00,  2.16it/s] 5.65s/it]\n",
      "Feature Extraction: 100%|██████████| 20/20 [00:03<00:00,  5.01it/s] 7.45s/it]\n",
      "Feature Extraction: 100%|██████████| 20/20 [00:03<00:00,  6.33it/s] 6.38s/it]\n",
      "Feature Extraction: 100%|██████████| 20/20 [00:04<00:00,  4.09it/s] 5.41s/it]\n",
      "Feature Extraction: 100%|██████████| 20/20 [00:03<00:00,  6.53it/s] 5.41s/it]\n",
      "Feature Extraction: 100%|██████████| 20/20 [00:09<00:00,  2.08it/s] 4.79s/it]\n",
      "Extracting validation features: 100%|██████████| 9/9 [00:54<00:00,  6.09s/it]"
     ]
    },
    {
     "name": "stdout",
     "output_type": "stream",
     "text": [
      "Shape of X_val: (40067, 50)\n",
      "Shape of y_val: (40067,)\n"
     ]
    },
    {
     "name": "stderr",
     "output_type": "stream",
     "text": [
      "\n"
     ]
    }
   ],
   "source": [
    "# Assert that the number of feature sets matches the number of label sets\n",
    "assert len(validation_windows_list) == len(validation_labels_list)\n",
    "\n",
    "# Initialize lists and arrays to store the extracted features and labels\n",
    "extracted_val_features_list = []\n",
    "concatenated_val_labels = np.array([])\n",
    "\n",
    "# Feature extraction loop with progress bar\n",
    "for i in tqdm(range(len(validation_windows_list)), desc=\"Extracting validation features\"):\n",
    "    try:\n",
    "        # Extract features using tsfresh\n",
    "        features = extract_features(\n",
    "            validation_windows_list[i], \n",
    "            column_id=\"id\", \n",
    "            column_sort=\"time\", \n",
    "            default_fc_parameters=MinimalFCParameters()\n",
    "        )\n",
    "        \n",
    "        # Impute missing values\n",
    "        imputed_features = impute(features)\n",
    "        \n",
    "        # Append extracted features and labels to respective lists\n",
    "        extracted_val_features_list.append(imputed_features)\n",
    "        concatenated_val_labels = np.append(concatenated_val_labels, validation_labels_list[i])\n",
    "    \n",
    "    except Exception as e:\n",
    "        # Log errors and continue\n",
    "        print(f\"Error processing index {i}: {e}\")\n",
    "        continue\n",
    "\n",
    "# Concatenate extracted features into a single DataFrame\n",
    "if extracted_val_features_list:  # Ensure the list is not empty\n",
    "    X_val = pd.concat(extracted_val_features_list, ignore_index=True)\n",
    "else:\n",
    "    X_val = pd.DataFrame()\n",
    "\n",
    "# Assign labels to y_val\n",
    "y_val = concatenated_val_labels\n",
    "\n",
    "# Verify the final shapes\n",
    "print(f\"Shape of X_val: {X_val.shape}\")\n",
    "print(f\"Shape of y_val: {y_val.shape}\")"
   ]
  },
  {
   "cell_type": "code",
   "execution_count": 26,
   "metadata": {},
   "outputs": [],
   "source": [
    "autoencoder_model_feature_pipeline = joblib.load(MODEL_STANDARD_DIR + '/fitted_pipeline.pkl')\n",
    "X_val_n = autoencoder_model_feature_pipeline.transform(X_val)"
   ]
  },
  {
   "cell_type": "code",
   "execution_count": 27,
   "metadata": {},
   "outputs": [
    {
     "name": "stdout",
     "output_type": "stream",
     "text": [
      "1253/1253 [==============================] - 1s 1ms/step\n"
     ]
    }
   ],
   "source": [
    "preds_val = model.predict(X_val_n)"
   ]
  },
  {
   "cell_type": "code",
   "execution_count": 28,
   "metadata": {},
   "outputs": [
    {
     "name": "stdout",
     "output_type": "stream",
     "text": [
      "   reconstruction_errors\n",
      "0               6.362383\n",
      "1               6.537131\n",
      "2               6.669594\n",
      "3               6.916628\n",
      "4               6.923093\n"
     ]
    }
   ],
   "source": [
    "# Calculate reconstruction errors using vectorized operations\n",
    "reconstruction_errors = np.linalg.norm(X_val_n - preds_val, axis=1) ** 2\n",
    "\n",
    "# Create a DataFrame to store the reconstruction errors\n",
    "reconstruction_errors_df = pd.DataFrame({\"reconstruction_errors\": reconstruction_errors})\n",
    "\n",
    "# Print the first few rows of the DataFrame to verify the results\n",
    "print(reconstruction_errors_df.head())"
   ]
  },
  {
   "cell_type": "code",
   "execution_count": 29,
   "metadata": {},
   "outputs": [
    {
     "data": {
      "text/html": [
       "<div>\n",
       "<style scoped>\n",
       "    .dataframe tbody tr th:only-of-type {\n",
       "        vertical-align: middle;\n",
       "    }\n",
       "\n",
       "    .dataframe tbody tr th {\n",
       "        vertical-align: top;\n",
       "    }\n",
       "\n",
       "    .dataframe thead th {\n",
       "        text-align: right;\n",
       "    }\n",
       "</style>\n",
       "<table border=\"1\" class=\"dataframe\">\n",
       "  <thead>\n",
       "    <tr style=\"text-align: right;\">\n",
       "      <th></th>\n",
       "      <th>reconstruction_errors</th>\n",
       "    </tr>\n",
       "  </thead>\n",
       "  <tbody>\n",
       "    <tr>\n",
       "      <th>count</th>\n",
       "      <td>40067.000000</td>\n",
       "    </tr>\n",
       "    <tr>\n",
       "      <th>mean</th>\n",
       "      <td>18.271126</td>\n",
       "    </tr>\n",
       "    <tr>\n",
       "      <th>std</th>\n",
       "      <td>43.070344</td>\n",
       "    </tr>\n",
       "    <tr>\n",
       "      <th>min</th>\n",
       "      <td>1.651086</td>\n",
       "    </tr>\n",
       "    <tr>\n",
       "      <th>25%</th>\n",
       "      <td>7.181393</td>\n",
       "    </tr>\n",
       "    <tr>\n",
       "      <th>50%</th>\n",
       "      <td>7.819049</td>\n",
       "    </tr>\n",
       "    <tr>\n",
       "      <th>75%</th>\n",
       "      <td>10.243171</td>\n",
       "    </tr>\n",
       "    <tr>\n",
       "      <th>max</th>\n",
       "      <td>1159.880985</td>\n",
       "    </tr>\n",
       "  </tbody>\n",
       "</table>\n",
       "</div>"
      ],
      "text/plain": [
       "       reconstruction_errors\n",
       "count           40067.000000\n",
       "mean               18.271126\n",
       "std                43.070344\n",
       "min                 1.651086\n",
       "25%                 7.181393\n",
       "50%                 7.819049\n",
       "75%                10.243171\n",
       "max              1159.880985"
      ]
     },
     "execution_count": 29,
     "metadata": {},
     "output_type": "execute_result"
    }
   ],
   "source": [
    "reconstruction_errors_df.describe()"
   ]
  },
  {
   "cell_type": "code",
   "execution_count": 31,
   "metadata": {},
   "outputs": [
    {
     "data": {
      "text/plain": [
       "<Figure size 1000x600 with 0 Axes>"
      ]
     },
     "metadata": {},
     "output_type": "display_data"
    },
    {
     "data": {
      "image/png": "[encoded data removed]",
      "text/plain": [
       "<Figure size 640x480 with 1 Axes>"
      ]
     },
     "metadata": {},
     "output_type": "display_data"
    }
   ],
   "source": [
    "plt.figure(figsize=(10, 6))\n",
    "reconstruction_errors_df.plot.hist(bins=50, log=True)\n",
    "plt.title('Histogram of Reconstruction Errors (Log Scale)')\n",
    "plt.xlabel('Reconstruction Error')\n",
    "plt.ylabel('Frequency')\n",
    "plt.show()"
   ]
  },
  {
   "cell_type": "code",
   "execution_count": 33,
   "metadata": {},
   "outputs": [
    {
     "name": "stdout",
     "output_type": "stream",
     "text": [
      "p-value: 0.0\n",
      "The null hypothesis can be rejected (data is not normal).\n"
     ]
    }
   ],
   "source": [
    "test_normal_dist(reconstruction_errors_df.values)"
   ]
  },
  {
   "cell_type": "code",
   "execution_count": 34,
   "metadata": {},
   "outputs": [
    {
     "data": {
      "text/plain": [
       "18.27112576472031"
      ]
     },
     "execution_count": 34,
     "metadata": {},
     "output_type": "execute_result"
    }
   ],
   "source": [
    "mu = np.mean(reconstruction_errors_df[\"reconstruction_errors\"].values)\n",
    "mu"
   ]
  },
  {
   "cell_type": "code",
   "execution_count": 35,
   "metadata": {},
   "outputs": [
    {
     "data": {
      "text/plain": [
       "43.06980700510487"
      ]
     },
     "execution_count": 35,
     "metadata": {},
     "output_type": "execute_result"
    }
   ],
   "source": [
    "std = np.std(reconstruction_errors_df[\"reconstruction_errors\"].values)\n",
    "std"
   ]
  },
  {
   "cell_type": "code",
   "execution_count": null,
   "metadata": {},
   "outputs": [],
   "source": []
  }
 ],
 "metadata": {
  "kernelspec": {
   "display_name": "base",
   "language": "python",
   "name": "python3"
  },
  "language_info": {
   "codemirror_mode": {
    "name": "ipython",
    "version": 3
   },
   "file_extension": ".py",
   "mimetype": "text/x-python",
   "name": "python",
   "nbconvert_exporter": "python",
   "pygments_lexer": "ipython3",
   "version": "3.10.11"
  }
 },
 "nbformat": 4,
 "nbformat_minor": 2
}
